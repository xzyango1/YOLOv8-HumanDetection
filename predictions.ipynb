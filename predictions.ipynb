{
 "cells": [
  {
   "cell_type": "code",
   "execution_count": null,
   "metadata": {
    "execution": {
     "iopub.execute_input": "2024-02-12T09:09:38.155607Z",
     "iopub.status.busy": "2024-02-12T09:09:38.155145Z",
     "iopub.status.idle": "2024-02-12T09:09:52.386031Z",
     "shell.execute_reply": "2024-02-12T09:09:52.385085Z",
     "shell.execute_reply.started": "2024-02-12T09:09:38.155571Z"
    },
    "trusted": true
   },
   "outputs": [
    {
     "name": "stdout",
     "output_type": "stream",
     "text": [
      "Collecting ultralytics\n",
      "  Downloading ultralytics-8.1.11-py3-none-any.whl.metadata (40 kB)\n",
      "\u001b[2K     \u001b[90m━━━━━━━━━━━━━━━━━━━━━━━━━━━━━━━━━━━━━━━━\u001b[0m \u001b[32m40.2/40.2 kB\u001b[0m \u001b[31m2.0 MB/s\u001b[0m eta \u001b[36m0:00:00\u001b[0m\n",
      "\u001b[?25hRequirement already satisfied: matplotlib>=3.3.0 in /opt/conda/lib/python3.10/site-packages (from ultralytics) (3.7.4)\n",
      "Requirement already satisfied: numpy>=1.22.2 in /opt/conda/lib/python3.10/site-packages (from ultralytics) (1.24.4)\n",
      "Requirement already satisfied: opencv-python>=4.6.0 in /opt/conda/lib/python3.10/site-packages (from ultralytics) (4.9.0.80)\n",
      "Requirement already satisfied: pillow>=7.1.2 in /opt/conda/lib/python3.10/site-packages (from ultralytics) (9.5.0)\n",
      "Requirement already satisfied: pyyaml>=5.3.1 in /opt/conda/lib/python3.10/site-packages (from ultralytics) (6.0.1)\n",
      "Requirement already satisfied: requests>=2.23.0 in /opt/conda/lib/python3.10/site-packages (from ultralytics) (2.31.0)\n",
      "Requirement already satisfied: scipy>=1.4.1 in /opt/conda/lib/python3.10/site-packages (from ultralytics) (1.11.4)\n",
      "Requirement already satisfied: torch>=1.8.0 in /opt/conda/lib/python3.10/site-packages (from ultralytics) (2.1.2)\n",
      "Requirement already satisfied: torchvision>=0.9.0 in /opt/conda/lib/python3.10/site-packages (from ultralytics) (0.16.2)\n",
      "Requirement already satisfied: tqdm>=4.64.0 in /opt/conda/lib/python3.10/site-packages (from ultralytics) (4.66.1)\n",
      "Requirement already satisfied: psutil in /opt/conda/lib/python3.10/site-packages (from ultralytics) (5.9.3)\n",
      "Requirement already satisfied: py-cpuinfo in /opt/conda/lib/python3.10/site-packages (from ultralytics) (9.0.0)\n",
      "Collecting thop>=0.1.1 (from ultralytics)\n",
      "  Downloading thop-0.1.1.post2209072238-py3-none-any.whl (15 kB)\n",
      "Requirement already satisfied: pandas>=1.1.4 in /opt/conda/lib/python3.10/site-packages (from ultralytics) (2.1.4)\n",
      "Requirement already satisfied: seaborn>=0.11.0 in /opt/conda/lib/python3.10/site-packages (from ultralytics) (0.12.2)\n",
      "Requirement already satisfied: contourpy>=1.0.1 in /opt/conda/lib/python3.10/site-packages (from matplotlib>=3.3.0->ultralytics) (1.2.0)\n",
      "Requirement already satisfied: cycler>=0.10 in /opt/conda/lib/python3.10/site-packages (from matplotlib>=3.3.0->ultralytics) (0.12.1)\n",
      "Requirement already satisfied: fonttools>=4.22.0 in /opt/conda/lib/python3.10/site-packages (from matplotlib>=3.3.0->ultralytics) (4.47.0)\n",
      "Requirement already satisfied: kiwisolver>=1.0.1 in /opt/conda/lib/python3.10/site-packages (from matplotlib>=3.3.0->ultralytics) (1.4.5)\n",
      "Requirement already satisfied: packaging>=20.0 in /opt/conda/lib/python3.10/site-packages (from matplotlib>=3.3.0->ultralytics) (21.3)\n",
      "Requirement already satisfied: pyparsing>=2.3.1 in /opt/conda/lib/python3.10/site-packages (from matplotlib>=3.3.0->ultralytics) (3.1.1)\n",
      "Requirement already satisfied: python-dateutil>=2.7 in /opt/conda/lib/python3.10/site-packages (from matplotlib>=3.3.0->ultralytics) (2.8.2)\n",
      "Requirement already satisfied: pytz>=2020.1 in /opt/conda/lib/python3.10/site-packages (from pandas>=1.1.4->ultralytics) (2023.3.post1)\n",
      "Requirement already satisfied: tzdata>=2022.1 in /opt/conda/lib/python3.10/site-packages (from pandas>=1.1.4->ultralytics) (2023.4)\n",
      "Requirement already satisfied: charset-normalizer<4,>=2 in /opt/conda/lib/python3.10/site-packages (from requests>=2.23.0->ultralytics) (3.3.2)\n",
      "Requirement already satisfied: idna<4,>=2.5 in /opt/conda/lib/python3.10/site-packages (from requests>=2.23.0->ultralytics) (3.6)\n",
      "Requirement already satisfied: urllib3<3,>=1.21.1 in /opt/conda/lib/python3.10/site-packages (from requests>=2.23.0->ultralytics) (1.26.18)\n",
      "Requirement already satisfied: certifi>=2017.4.17 in /opt/conda/lib/python3.10/site-packages (from requests>=2.23.0->ultralytics) (2023.11.17)\n",
      "Requirement already satisfied: filelock in /opt/conda/lib/python3.10/site-packages (from torch>=1.8.0->ultralytics) (3.13.1)\n",
      "Requirement already satisfied: typing-extensions in /opt/conda/lib/python3.10/site-packages (from torch>=1.8.0->ultralytics) (4.9.0)\n",
      "Requirement already satisfied: sympy in /opt/conda/lib/python3.10/site-packages (from torch>=1.8.0->ultralytics) (1.12)\n",
      "Requirement already satisfied: networkx in /opt/conda/lib/python3.10/site-packages (from torch>=1.8.0->ultralytics) (3.2.1)\n",
      "Requirement already satisfied: jinja2 in /opt/conda/lib/python3.10/site-packages (from torch>=1.8.0->ultralytics) (3.1.2)\n",
      "Requirement already satisfied: fsspec in /opt/conda/lib/python3.10/site-packages (from torch>=1.8.0->ultralytics) (2023.12.2)\n",
      "Requirement already satisfied: six>=1.5 in /opt/conda/lib/python3.10/site-packages (from python-dateutil>=2.7->matplotlib>=3.3.0->ultralytics) (1.16.0)\n",
      "Requirement already satisfied: MarkupSafe>=2.0 in /opt/conda/lib/python3.10/site-packages (from jinja2->torch>=1.8.0->ultralytics) (2.1.3)\n",
      "Requirement already satisfied: mpmath>=0.19 in /opt/conda/lib/python3.10/site-packages (from sympy->torch>=1.8.0->ultralytics) (1.3.0)\n",
      "Downloading ultralytics-8.1.11-py3-none-any.whl (709 kB)\n",
      "\u001b[2K   \u001b[90m━━━━━━━━━━━━━━━━━━━━━━━━━━━━━━━━━━━━━━━━\u001b[0m \u001b[32m709.5/709.5 kB\u001b[0m \u001b[31m19.3 MB/s\u001b[0m eta \u001b[36m0:00:00\u001b[0m00:01\u001b[0m\n",
      "\u001b[?25hInstalling collected packages: thop, ultralytics\n",
      "Successfully installed thop-0.1.1.post2209072238 ultralytics-8.1.11\n"
     ]
    }
   ],
   "source": [
    "# Install the 'ultralytics' package using pip\n",
    "!pip install ultralytics"
   ]
  },
  {
   "cell_type": "code",
   "execution_count": null,
   "metadata": {},
   "outputs": [],
   "source": [
    "# 一键：准备输入，运行预测，保存并在 Notebook 中显示结果\n",
    "from ultralytics import YOLO\n",
    "import os, glob\n",
    "from IPython.display import display\n",
    "from PIL import Image\n",
    "import urllib.request\n",
    "\n",
    "# 1) 指定 source —— 可改为单张图片或文件夹\n",
    "source = \"assets\"   # 或 \"test.png\" 或 \"your_video.mp4\"（若有）\n",
    "\n",
    "# 2) 确保有输入：如果 assets 空则下载示例图片\n",
    "os.makedirs(\"assets\", exist_ok=True)\n",
    "if not any(os.scandir(\"assets\")) and not os.path.exists(\"test.png\"):\n",
    "    print(\"assets 为空，下载示例图片到 assets/img1.jpg …\")\n",
    "    urllib.request.urlretrieve(\"https://ultralytics.com/images/zidane.jpg\", \"assets/img1.jpg\")\n",
    "\n",
    "# 3) 加载模型（会自动下载 yolov8n.pt，如果本地没有）\n",
    "model = YOLO(\"yolov8n.pt\")\n",
    "print(\"Model loaded:\", model)\n",
    "\n",
    "# 4) 运行预测并保存结果到 runs/ 目录（save=True 非常重要）\n",
    "print(\"Running prediction… this may take a few seconds for first run (downloading weights).\")\n",
    "results = model.predict(source=source, conf=0.25, save=True)  # results 是 list-like\n",
    "\n",
    "# 5) 在 Notebook 中显示最近保存的几张图片（若有）\n",
    "out_imgs = sorted(glob.glob(\"runs/detect/**/*.*\", recursive=True))\n",
    "out_imgs = [p for p in out_imgs if p.lower().endswith((\".jpg\",\".png\",\".jpeg\"))]\n",
    "print(\"Saved outputs count:\", len(out_imgs))\n",
    "if out_imgs:\n",
    "    # 显示最近一张\n",
    "    print(\"Showing:\", out_imgs[-1])\n",
    "    display(Image.open(out_imgs[-1]))\n",
    "else:\n",
    "    # 如果没有文件则尝试使用 result.plot() 直接可视化（不依赖保存）\n",
    "    print(\"No saved images found, attempting to plot results inline.\")\n",
    "    for i, res in enumerate(results):\n",
    "        img = res.plot()[:, :, ::-1]  # BGR->RGB\n",
    "        from matplotlib import pyplot as plt\n",
    "        plt.figure(figsize=(10,6))\n",
    "        plt.imshow(img)\n",
    "        plt.axis('off')\n",
    "        plt.title(f\"Result {i}\")\n",
    "        plt.show()\n"
   ]
  },
  {
   "cell_type": "code",
   "execution_count": 8,
   "metadata": {
    "execution": {
     "iopub.execute_input": "2024-02-12T09:09:52.388650Z",
     "iopub.status.busy": "2024-02-12T09:09:52.388258Z",
     "iopub.status.idle": "2024-02-12T09:09:59.490521Z",
     "shell.execute_reply": "2024-02-12T09:09:59.489745Z",
     "shell.execute_reply.started": "2024-02-12T09:09:52.388617Z"
    },
    "trusted": true
   },
   "outputs": [],
   "source": [
    "# Import the YOLO module from the ultralytics library.\n",
    "from ultralytics import YOLO"
   ]
  },
  {
   "cell_type": "code",
   "execution_count": 13,
   "metadata": {
    "execution": {
     "iopub.execute_input": "2024-02-12T09:09:59.491858Z",
     "iopub.status.busy": "2024-02-12T09:09:59.491453Z",
     "iopub.status.idle": "2024-02-12T09:09:59.677860Z",
     "shell.execute_reply": "2024-02-12T09:09:59.677049Z",
     "shell.execute_reply.started": "2024-02-12T09:09:59.491833Z"
    },
    "trusted": true
   },
   "outputs": [],
   "source": [
    "# Create an instance of the YOLO model\n",
    "# Initialize it with the pre-trained weights file 'best.pt' located at the specified path\n",
    "model = YOLO('yolov8n.pt')"
   ]
  },
  {
   "cell_type": "code",
   "execution_count": 14,
   "metadata": {
    "execution": {
     "iopub.execute_input": "2024-02-12T09:09:59.680930Z",
     "iopub.status.busy": "2024-02-12T09:09:59.680172Z",
     "iopub.status.idle": "2024-02-12T09:09:59.684809Z",
     "shell.execute_reply": "2024-02-12T09:09:59.683915Z",
     "shell.execute_reply.started": "2024-02-12T09:09:59.680898Z"
    },
    "trusted": true
   },
   "outputs": [],
   "source": [
    "# Define path to video file\n",
    "source = 'test.png'"
   ]
  },
  {
   "cell_type": "code",
   "execution_count": 19,
   "metadata": {
    "execution": {
     "iopub.execute_input": "2024-02-12T09:09:59.686573Z",
     "iopub.status.busy": "2024-02-12T09:09:59.686274Z",
     "iopub.status.idle": "2024-02-12T09:10:00.380404Z",
     "shell.execute_reply": "2024-02-12T09:10:00.379554Z",
     "shell.execute_reply.started": "2024-02-12T09:09:59.686540Z"
    },
    "trusted": true
   },
   "outputs": [],
   "source": [
    "# Run inference on the source\n",
    "results = model(source, stream=True)  # generator of Results objects"
   ]
  },
  {
   "cell_type": "code",
   "execution_count": 21,
   "metadata": {
    "execution": {
     "iopub.execute_input": "2024-02-12T09:10:00.381793Z",
     "iopub.status.busy": "2024-02-12T09:10:00.381494Z",
     "iopub.status.idle": "2024-02-12T09:10:23.145380Z",
     "shell.execute_reply": "2024-02-12T09:10:23.144667Z",
     "shell.execute_reply.started": "2024-02-12T09:10:00.381768Z"
    },
    "trusted": true
   },
   "outputs": [],
   "source": [
    "# Iterate over each 'result' in the 'results' collection\n",
    "for result in results:\n",
    "    # Extract bounding box information from the current 'result'\n",
    "    boxes = result.boxes\n",
    "    # Extract mask information from the current 'result'\n",
    "    masks = result.masks\n",
    "    # Extract keypoints information from the current 'result'\n",
    "    keypoints = result.keypoints\n",
    "    # Extract probability scores from the current 'result'\n",
    "    probs = result.probs\n",
    "    \n",
    "# Now you can use 'boxes', 'masks', 'keypoints', and 'probs' as needed for further processing or analysis.\n",
    "# These variables hold the relevant information related to the object detection results for the current iteration."
   ]
  }
 ],
 "metadata": {
  "kaggle": {
   "accelerator": "nvidiaTeslaT4",
   "dataSources": [
    {
     "datasetId": 4431250,
     "sourceId": 7610205,
     "sourceType": "datasetVersion"
    },
    {
     "datasetId": 4431275,
     "sourceId": 7610239,
     "sourceType": "datasetVersion"
    }
   ],
   "dockerImageVersionId": 30648,
   "isGpuEnabled": true,
   "isInternetEnabled": true,
   "language": "python",
   "sourceType": "notebook"
  },
  "kernelspec": {
   "display_name": "yolo_env",
   "language": "python",
   "name": "python3"
  },
  "language_info": {
   "codemirror_mode": {
    "name": "ipython",
    "version": 3
   },
   "file_extension": ".py",
   "mimetype": "text/x-python",
   "name": "python",
   "nbconvert_exporter": "python",
   "pygments_lexer": "ipython3",
   "version": "3.9.23"
  }
 },
 "nbformat": 4,
 "nbformat_minor": 4
}
